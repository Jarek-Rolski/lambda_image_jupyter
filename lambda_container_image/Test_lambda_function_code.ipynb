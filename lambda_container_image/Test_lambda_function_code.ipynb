{
 "cells": [
  {
   "attachments": {},
   "cell_type": "markdown",
   "metadata": {},
   "source": [
    "### Change and save python files\n",
    "Here one can to change python file. Cells after run will save to its content to files in argument of %%writefile magic function."
   ]
  },
  {
   "cell_type": "code",
   "execution_count": null,
   "metadata": {},
   "outputs": [
    {
     "name": "stdout",
     "output_type": "stream",
     "text": [
      "Overwriting app.py\n"
     ]
    }
   ],
   "source": [
    "%%writefile app.py\n",
    "import pandas as pd\n",
    "\n",
    "def print_df():\n",
    "    df = pd.DataFrame([[1,2],[3,4]], columns=['col1','col2'])\n",
    "    print(df)\n",
    "\n",
    "def handler(event, context):\n",
    "    \n",
    "    print(df)\n",
    "\n",
    "    return 200\n",
    "\n",
    "if __name__ == '__main__':\n",
    "    handler(None, None)"
   ]
  },
  {
   "attachments": {},
   "cell_type": "markdown",
   "metadata": {},
   "source": [
    "### Load/Reload python file\n",
    "Thanks to reload function one doesn't have to restatrt kernel to use updated version of python file."
   ]
  },
  {
   "cell_type": "code",
   "execution_count": 1,
   "metadata": {},
   "outputs": [],
   "source": [
    "from importlib import reload  # Python 3.4+\n",
    "import app\n",
    "\n",
    "__file__ = \"\""
   ]
  },
  {
   "cell_type": "code",
   "execution_count": 2,
   "metadata": {},
   "outputs": [
    {
     "data": {
      "text/plain": [
       "<module 'app' from '/workspaces/digital-dashboard-wfc/lambda_container_image/app.py'>"
      ]
     },
     "execution_count": 2,
     "metadata": {},
     "output_type": "execute_result"
    }
   ],
   "source": [
    "reload(app)"
   ]
  },
  {
   "attachments": {},
   "cell_type": "markdown",
   "metadata": {},
   "source": [
    "### Test lambda function"
   ]
  },
  {
   "cell_type": "code",
   "execution_count": 10,
   "metadata": {},
   "outputs": [],
   "source": [
    "app.print_df()"
   ]
  }
 ],
 "metadata": {
  "kernelspec": {
   "display_name": "Python 3.9.17 64-bit",
   "language": "python",
   "name": "python3"
  },
  "language_info": {
   "codemirror_mode": {
    "name": "ipython",
    "version": 3
   },
   "file_extension": ".py",
   "mimetype": "text/x-python",
   "name": "python",
   "nbconvert_exporter": "python",
   "pygments_lexer": "ipython3",
   "version": "3.9.17"
  },
  "orig_nbformat": 4,
  "vscode": {
   "interpreter": {
    "hash": "d78e0183833e85eccb698a260a13d66dc9791fb924f067a7dbf03a9abbb248d2"
   }
  }
 },
 "nbformat": 4,
 "nbformat_minor": 2
}
